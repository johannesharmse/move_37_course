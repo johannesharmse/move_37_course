{
 "cells": [
  {
   "cell_type": "code",
   "execution_count": 2,
   "metadata": {},
   "outputs": [],
   "source": [
    "import gym\n",
    "import numpy as np\n",
    "import matplotlib.pyplot as plt\n",
    "%matplotlib inline"
   ]
  },
  {
   "cell_type": "code",
   "execution_count": 3,
   "metadata": {},
   "outputs": [],
   "source": [
    "def run_episode(env, parameters):\n",
    "    '''\n",
    "    Episode running and returns total reward gained.\n",
    "    +1 reward if pole is vertical.\n",
    "    '''\n",
    "    observation = env.reset()\n",
    "    totalreward = 0\n",
    "    for i in range(200):\n",
    "        # determine the action to take\n",
    "        # left if < 0\n",
    "        # else right\n",
    "        action = 0 if np.matmul(parameters,observation) < 0 else 1\n",
    "        observation, reward, done, info = env.step(action)\n",
    "        totalreward += reward\n",
    "        if done:\n",
    "            break\n",
    "            \n",
    "    # env.close()\n",
    "\n",
    "    return {'total_reward': totalreward, \n",
    "           'i_to_solve': i}"
   ]
  },
  {
   "cell_type": "markdown",
   "metadata": {},
   "source": [
    "## Random Search Approach"
   ]
  },
  {
   "cell_type": "code",
   "execution_count": 3,
   "metadata": {},
   "outputs": [
    {
     "name": "stdout",
     "output_type": "stream",
     "text": [
      "\u001b[33mWARN: gym.spaces.Box autodetected dtype as <class 'numpy.float32'>. Please provide explicit dtype.\u001b[0m\n",
      "[-0.38351004  0.70632117  0.37693858  0.94593196]\n",
      "Best reward: 200.0\n"
     ]
    }
   ],
   "source": [
    "bestparams = None\n",
    "bestreward = 0\n",
    "iter_solved = []\n",
    "\n",
    "# cartPole env\n",
    "env = gym.make('CartPole-v0')\n",
    "\n",
    "for i in range(10000):\n",
    "    \n",
    "    # open viewer\n",
    "    env.render()\n",
    "    \n",
    "    # generate random 4 parameter values [-1, 1]\n",
    "    parameters = np.random.rand(4) * 2 - 1\n",
    "    \n",
    "    # run an episode\n",
    "    episode = run_episode(env, parameters)\n",
    "    \n",
    "    # save episode variables\n",
    "    reward = episode['total_reward']\n",
    "    i_to_solve = episode['i_to_solve']\n",
    "    \n",
    "    # check how long it took to solve\n",
    "    if i_to_solve <= 20:\n",
    "        iter_solved.append(i_to_solve)\n",
    "    \n",
    "    # check best params and rewards\n",
    "    if reward > bestreward:\n",
    "        bestreward = reward\n",
    "        bestparams = parameters\n",
    "#         # consider solved if the agent lasts 200 timesteps\n",
    "#         if reward == 200:\n",
    "#             break\n",
    "\n",
    "# close window\n",
    "env.close()\n",
    "\n",
    "print(bestparams)\n",
    "print(\"Best reward: {}\".format(bestreward))"
   ]
  },
  {
   "cell_type": "code",
   "execution_count": 4,
   "metadata": {},
   "outputs": [
    {
     "data": {
      "text/plain": [
       "Text(0,0.5,'Frequency')"
      ]
     },
     "execution_count": 4,
     "metadata": {},
     "output_type": "execute_result"
    },
    {
     "data": {
      "image/png": "[encoded data removed]",
      "text/plain": [
       "<matplotlib.figure.Figure at 0x7fd60899d828>"
      ]
     },
     "metadata": {},
     "output_type": "display_data"
    }
   ],
   "source": [
    "bins = min(10, len(iter_solved))\n",
    "plt.hist(iter_solved, bins=bins)\n",
    "plt.xlabel('Number of iterations to solve')\n",
    "plt.ylabel('Frequency')"
   ]
  },
  {
   "cell_type": "markdown",
   "metadata": {},
   "source": [
    "## Hill-climbing"
   ]
  },
  {
   "cell_type": "code",
   "execution_count": 9,
   "metadata": {},
   "outputs": [
    {
     "name": "stdout",
     "output_type": "stream",
     "text": [
      "\u001b[33mWARN: gym.spaces.Box autodetected dtype as <class 'numpy.float32'>. Please provide explicit dtype.\u001b[0m\n",
      "[ 4.42419291 -4.58194308 -5.53238006  1.77068509]\n",
      "Best reward: 167.0\n"
     ]
    }
   ],
   "source": [
    "noise_scaling = 0.1\n",
    "parameters = None\n",
    "\n",
    "bestparams = None\n",
    "bestreward = 0\n",
    "iter_solved = []\n",
    "\n",
    "# cartPole env\n",
    "env = gym.make('CartPole-v0')\n",
    "\n",
    "for i in range(10000):\n",
    "    \n",
    "    # open viewer\n",
    "    env.render()\n",
    "    \n",
    "    \n",
    "    if parameters is None:\n",
    "        # generate random 4 parameter values [-1, 1]\n",
    "        parameters = np.random.rand(4) * 2 - 1\n",
    "    else:\n",
    "        # add random noise\n",
    "        parameters = parameters + (np.random.rand(4) * 2 - 1)*noise_scaling\n",
    "    \n",
    "    # run an episode\n",
    "    episode = run_episode(env, parameters)\n",
    "    \n",
    "    # save episode variables\n",
    "    reward = episode['total_reward']\n",
    "    i_to_solve = episode['i_to_solve']\n",
    "    \n",
    "    # check how long it took to solve\n",
    "    if i_to_solve <= 20:\n",
    "        iter_solved.append(i_to_solve)\n",
    "    \n",
    "    # check best params and rewards\n",
    "    if reward > bestreward:\n",
    "        bestreward = reward\n",
    "        bestparams = parameters\n",
    "#         # consider solved if the agent lasts 200 timesteps\n",
    "#         if reward == 200:\n",
    "#             break\n",
    "\n",
    "# close window\n",
    "env.close()\n",
    "\n",
    "print(bestparams)\n",
    "print(\"Best reward: {}\".format(bestreward))"
   ]
  },
  {
   "cell_type": "code",
   "execution_count": 10,
   "metadata": {},
   "outputs": [
    {
     "data": {
      "text/plain": [
       "Text(0,0.5,'Frequency')"
      ]
     },
     "execution_count": 10,
     "metadata": {},
     "output_type": "execute_result"
    },
    {
     "data": {
      "image/png": "[encoded data removed]",
      "text/plain": [
       "<matplotlib.figure.Figure at 0x7fd6026cdcf8>"
      ]
     },
     "metadata": {},
     "output_type": "display_data"
    }
   ],
   "source": [
    "bins = min(10, len(iter_solved))\n",
    "plt.hist(iter_solved, bins=bins)\n",
    "plt.xlabel('Number of iterations to solve')\n",
    "plt.ylabel('Frequency')"
   ]
  },
  {
   "cell_type": "markdown",
   "metadata": {},
   "source": [
    "## Hill Climb with multiple episodes per update"
   ]
  },
  {
   "cell_type": "code",
   "execution_count": 4,
   "metadata": {},
   "outputs": [
    {
     "name": "stdout",
     "output_type": "stream",
     "text": [
      "\u001b[33mWARN: gym.spaces.Box autodetected dtype as <class 'numpy.float32'>. Please provide explicit dtype.\u001b[0m\n",
      "[0.05148482 0.59018746 1.67302856 0.49163154]\n",
      "Best reward: 2000.0\n"
     ]
    }
   ],
   "source": [
    "noise_scaling = 0.1\n",
    "parameters = None\n",
    "\n",
    "bestparams = None\n",
    "bestreward = 0\n",
    "iter_solved = []\n",
    "\n",
    "# cartPole env\n",
    "env = gym.make('CartPole-v0')\n",
    "\n",
    "for i in range(10000):\n",
    "    \n",
    "    # open viewer\n",
    "    env.render()\n",
    "    \n",
    "    \n",
    "    if parameters is None:\n",
    "        # generate random 4 parameter values [-1, 1]\n",
    "        parameters = np.random.rand(4) * 2 - 1\n",
    "    else:\n",
    "        # add random noise\n",
    "        parameters = parameters + (np.random.rand(4) * 2 - 1)*noise_scaling\n",
    "    \n",
    "    reward = 0\n",
    "    i_to_solve = 0\n",
    "    \n",
    "    # run an episode\n",
    "    for j in range(10):\n",
    "        episode = run_episode(env, parameters)\n",
    "        \n",
    "        # save episode variables\n",
    "        episode_reward = episode['total_reward']\n",
    "        episode_i_to_solve = episode['i_to_solve']\n",
    "        \n",
    "        reward += episode_reward\n",
    "        i_to_solve += episode_i_to_solve\n",
    "    \n",
    "    # check how long it took to solve\n",
    "    if i_to_solve <= 2000:\n",
    "        iter_solved.append(i_to_solve)\n",
    "    \n",
    "    # check best params and rewards\n",
    "    if reward > bestreward:\n",
    "        bestreward = reward\n",
    "        bestparams = parameters\n",
    "#         # consider solved if the agent lasts 200 timesteps\n",
    "#         if reward == 200:\n",
    "#             break\n",
    "\n",
    "# close window\n",
    "env.close()\n",
    "\n",
    "print(bestparams)\n",
    "print(\"Best reward: {}\".format(bestreward))"
   ]
  },
  {
   "cell_type": "code",
   "execution_count": 5,
   "metadata": {},
   "outputs": [
    {
     "data": {
      "text/plain": [
       "Text(0,0.5,'Frequency')"
      ]
     },
     "execution_count": 5,
     "metadata": {},
     "output_type": "execute_result"
    },
    {
     "data": {
      "image/png": "[encoded data removed]",
      "text/plain": [
       "<matplotlib.figure.Figure at 0x7fc465f766d8>"
      ]
     },
     "metadata": {},
     "output_type": "display_data"
    }
   ],
   "source": [
    "bins = min(10, len(iter_solved))\n",
    "plt.hist(iter_solved, bins=bins)\n",
    "plt.xlabel('Number of iterations to solve')\n",
    "plt.ylabel('Frequency')"
   ]
  }
 ],
 "metadata": {
  "kernelspec": {
   "display_name": "Python 3",
   "language": "python",
   "name": "python3"
  },
  "language_info": {
   "codemirror_mode": {
    "name": "ipython",
    "version": 3
   },
   "file_extension": ".py",
   "mimetype": "text/x-python",
   "name": "python",
   "nbconvert_exporter": "python",
   "pygments_lexer": "ipython3",
   "version": "3.6.4"
  }
 },
 "nbformat": 4,
 "nbformat_minor": 2
}
